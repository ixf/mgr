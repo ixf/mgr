{
 "cells": [
  {
   "cell_type": "code",
   "execution_count": 1,
   "id": "activated-gregory",
   "metadata": {},
   "outputs": [
    {
     "name": "stdout",
     "output_type": "stream",
     "text": [
      "GPUs Available:  [PhysicalDevice(name='/physical_device:GPU:0', device_type='GPU')]\n"
     ]
    }
   ],
   "source": [
    "from sys import argv\n",
    "import os\n",
    "os.environ[\"TF_FORCE_GPU_ALLOW_GROWTH\"]=\"true\"\n",
    "\n",
    "import numpy as np\n",
    "import json\n",
    "from collections import defaultdict\n",
    "import tensorflow as tf\n",
    "from tensorflow import keras\n",
    "from tensorflow.keras import Model\n",
    "from tensorflow.keras.callbacks import EarlyStopping\n",
    "from tensorflow.keras.layers import Input, LSTM, Dense, RepeatVector, TimeDistributed, Concatenate, Embedding, Dropout\n",
    "from tensorflow.keras.models import load_model, Sequential\n",
    "from tensorflow.keras.optimizers import Adam, SGD\n",
    "from tensorflow.keras.models import model_from_json\n",
    "from tensorflow.keras.utils import to_categorical\n",
    "import random\n",
    "import pickle\n",
    "from pandas import read_csv, DataFrame\n",
    "from sklearn.model_selection import train_test_split\n",
    "print(\"GPUs Available: \", tf.config.list_physical_devices('GPU'))\n",
    "physical_devices = tf.config.list_physical_devices('GPU')\n",
    "tf.config.experimental.set_memory_growth(physical_devices[0], True)\n",
    "tf.debugging.set_log_device_placement(True)"
   ]
  },
  {
   "cell_type": "code",
   "execution_count": 5,
   "id": "surrounded-logging",
   "metadata": {},
   "outputs": [],
   "source": [
    "KB = 1024"
   ]
  },
  {
   "cell_type": "code",
   "execution_count": 7,
   "id": "based-fields",
   "metadata": {},
   "outputs": [],
   "source": [
    "dfc = read_csv('df_clusters')\n",
    "offset = dfc.offset.to_numpy()"
   ]
  },
  {
   "cell_type": "code",
   "execution_count": 8,
   "id": "inclusive-dressing",
   "metadata": {},
   "outputs": [],
   "source": [
    "from sklearn.cluster import KMeans\n",
    "kmeans = KMeans(n_clusters=5)\n",
    "clusters = kmeans.fit_predict(dfc[['offset']])\n",
    "offsets = dfc.offset"
   ]
  },
  {
   "cell_type": "code",
   "execution_count": 9,
   "id": "lucky-manual",
   "metadata": {
    "tags": []
   },
   "outputs": [],
   "source": [
    "seq_length = 32\n",
    "samples = len(dfc)\n",
    "x_c = np.zeros((samples)).astype(dtype=np.int32)\n",
    "x_o = np.zeros((samples, seq_length)).astype(dtype=np.int32)\n",
    "y_o = np.zeros((samples)).astype(dtype=np.int32)\n",
    "\n",
    "for s in range(100): # range(samples):\n",
    "    idx = random.randint(0, len(dfc)-seq_length-1)\n",
    "\n",
    "    last = offsets[idx+seq_length-1]\n",
    "    nxt = offsets[idx+seq_length]\n",
    "    diff = nxt - last + 7\n",
    "\n",
    "    if diff >= 0.0 and diff < 16:\n",
    "        y_o[s] = diff\n",
    "    else:\n",
    "        y_o[s] = 16\n",
    "    x_o[s] = offsets[idx:idx+seq_length]\n",
    "    x_c[s] = clusters[idx]"
   ]
  },
  {
   "cell_type": "code",
   "execution_count": 10,
   "id": "written-remove",
   "metadata": {},
   "outputs": [],
   "source": [
    "cluster_input = keras.Input(shape=(1,), name=\"cluster\")\n",
    "\n",
    "offs_input = keras.Input(shape=(seq_length,), name=\"offset\")\n",
    "offs_emb = Embedding(x_o.max()+1, 16)(offs_input)\n",
    "offs_ft = LSTM(128)(offs_emb)\n",
    "\n",
    "merged = Concatenate()([cluster_input, offs_ft])\n",
    "drop = Dropout(0.2, input_shape=(None, 160))(merged)\n",
    "\n",
    "offs_output = Dense(1, name=\"out_offset\")(drop)\n",
    "\n",
    "model = keras.Model(\n",
    "    inputs=[cluster_input, offs_input],\n",
    "    outputs=[offs_output],\n",
    ")\n",
    "\n",
    "model.compile(loss='mse', optimizer='adam')"
   ]
  },
  {
   "cell_type": "code",
   "execution_count": 19,
   "id": "manufactured-psychology",
   "metadata": {
    "tags": []
   },
   "outputs": [
    {
     "name": "stdout",
     "output_type": "stream",
     "text": [
      "Epoch 1/24\n",
      "26/26 [==============================] - 1s 20ms/step - loss: 0.0034 - val_loss: 1.4778e-07\n",
      "Epoch 2/24\n",
      "26/26 [==============================] - 0s 17ms/step - loss: 0.0029 - val_loss: 9.0491e-07\n",
      "Epoch 3/24\n",
      "26/26 [==============================] - 0s 17ms/step - loss: 0.0034 - val_loss: 2.6536e-08\n",
      "Epoch 4/24\n",
      "26/26 [==============================] - 0s 18ms/step - loss: 0.0027 - val_loss: 6.0338e-08\n",
      "Epoch 5/24\n",
      "26/26 [==============================] - 0s 18ms/step - loss: 0.0027 - val_loss: 2.8860e-07\n",
      "Epoch 6/24\n",
      "26/26 [==============================] - 0s 18ms/step - loss: 0.0033 - val_loss: 6.3647e-08\n",
      "Epoch 7/24\n",
      "26/26 [==============================] - 0s 18ms/step - loss: 0.0030 - val_loss: 1.3049e-07\n",
      "Epoch 8/24\n",
      "26/26 [==============================] - 0s 17ms/step - loss: 0.0033 - val_loss: 4.4084e-07\n",
      "Epoch 9/24\n",
      "26/26 [==============================] - 0s 17ms/step - loss: 0.0029 - val_loss: 1.2486e-06\n",
      "Epoch 10/24\n",
      "26/26 [==============================] - 0s 17ms/step - loss: 0.0022 - val_loss: 5.0691e-07\n",
      "Epoch 11/24\n",
      "26/26 [==============================] - 0s 18ms/step - loss: 0.0023 - val_loss: 5.0581e-07\n",
      "Epoch 12/24\n",
      "26/26 [==============================] - 0s 18ms/step - loss: 0.0023 - val_loss: 3.3721e-09\n",
      "Epoch 13/24\n",
      "26/26 [==============================] - 0s 18ms/step - loss: 0.0027 - val_loss: 1.2103e-06\n",
      "Epoch 14/24\n",
      "26/26 [==============================] - 0s 17ms/step - loss: 0.0026 - val_loss: 3.5441e-06\n",
      "Epoch 15/24\n",
      "26/26 [==============================] - 0s 17ms/step - loss: 0.0018 - val_loss: 1.5424e-06\n",
      "Epoch 16/24\n",
      "26/26 [==============================] - 0s 17ms/step - loss: 0.0022 - val_loss: 2.1741e-10\n",
      "Epoch 17/24\n",
      "26/26 [==============================] - 0s 17ms/step - loss: 0.0024 - val_loss: 2.2868e-07\n",
      "Epoch 18/24\n",
      "26/26 [==============================] - 0s 17ms/step - loss: 0.0033 - val_loss: 8.3378e-07\n",
      "Epoch 19/24\n",
      "26/26 [==============================] - 0s 17ms/step - loss: 0.0027 - val_loss: 5.3126e-07\n",
      "Epoch 20/24\n",
      "26/26 [==============================] - 0s 17ms/step - loss: 0.0028 - val_loss: 3.8458e-07\n",
      "Epoch 21/24\n",
      "26/26 [==============================] - 0s 17ms/step - loss: 0.0027 - val_loss: 1.3653e-06\n",
      "Epoch 22/24\n",
      "26/26 [==============================] - 0s 18ms/step - loss: 0.0030 - val_loss: 7.8029e-08\n",
      "Epoch 23/24\n",
      "26/26 [==============================] - 0s 17ms/step - loss: 0.0029 - val_loss: 6.3070e-08\n",
      "Epoch 24/24\n",
      "26/26 [==============================] - 0s 17ms/step - loss: 0.0019 - val_loss: 4.6152e-08\n"
     ]
    }
   ],
   "source": [
    "with tf.device('/GPU:0'):\n",
    "    history = model.fit(\n",
    "        {\"cluster\": x_c, \"offset\": x_o},\n",
    "        {\"out_offset\": y_o},\n",
    "        epochs=24,\n",
    "        batch_size=1024,\n",
    "        validation_split=0.1,\n",
    "        verbose=1,\n",
    "    )"
   ]
  },
  {
   "cell_type": "markdown",
   "id": "after-myanmar",
   "metadata": {},
   "source": [
    "# 1 lstm + embedding adresów"
   ]
  },
  {
   "cell_type": "code",
   "execution_count": 10,
   "id": "ambient-coordinate",
   "metadata": {},
   "outputs": [],
   "source": [
    "dff = df.copy()\n",
    "dff.filename = df.filename.map(lambda x: int(x.split('/')[-1]))\n",
    "filenames = dff.filename.to_numpy().astype(dtype=np.int32)\n",
    "offsets = dff.offset.to_numpy().astype(dtype=np.int32)"
   ]
  },
  {
   "cell_type": "code",
   "execution_count": 11,
   "id": "velvet-discount",
   "metadata": {
    "tags": []
   },
   "outputs": [],
   "source": [
    "samples = len(df)\n",
    "files = 50\n",
    "seq_length = 32\n",
    "\n",
    "x_f = np.zeros((samples, seq_length)).astype(dtype=np.int32)\n",
    "x_o = np.zeros((samples, seq_length)).astype(dtype=np.int32)\n",
    "y_f = np.zeros((samples)).astype(dtype=np.int32)\n",
    "y_o = np.zeros((samples)).astype(dtype=np.int32)\n",
    "\n",
    "ok = np.zeros((samples)).astype(dtype=np.int32)\n",
    "\n",
    "for s in range(samples):\n",
    "    idx = random.randint(0, len(dff)-seq_length-1)\n",
    "\n",
    "    last = offsets[idx+seq_length-1]\n",
    "    nxt = offsets[idx+seq_length]\n",
    "    diff = nxt - last + 7\n",
    "\n",
    "    y_o[s] = diff\n",
    "    x_f[s] = filenames[idx:idx+seq_length] -1\n",
    "    y_f[s] = filenames[idx+seq_length] -1\n",
    "    x_o[s] = offsets[idx:idx+seq_length]"
   ]
  },
  {
   "cell_type": "code",
   "execution_count": 12,
   "id": "single-anime",
   "metadata": {},
   "outputs": [],
   "source": [
    "samples = x_o.shape[0]\n",
    "input_shape = (samples, seq_length, 2)\n",
    "output_shape = (samples, 2)"
   ]
  },
  {
   "cell_type": "code",
   "execution_count": 13,
   "id": "american-navigation",
   "metadata": {},
   "outputs": [],
   "source": [
    "file_input = keras.Input(shape=(seq_length,), name=\"file\")\n",
    "file_emb = Embedding(50, 4)(file_input)\n",
    "file_ft = LSTM(16)(file_emb)\n",
    "\n",
    "offs_input = keras.Input(shape=(seq_length,), name=\"offset\")\n",
    "offs_emb = Embedding(1024, 64)(offs_input)\n",
    "offs_ft = LSTM(64)(offs_emb)\n",
    "\n",
    "merged = Concatenate()([file_ft, offs_ft])\n",
    "\n",
    "# lstm = LSTM(300, dropout=0.3, recurrent_dropout=0.3)(merged)\n",
    "\n",
    "file_output = Dense(50, name=\"out_file\", activation='softmax')(merged)\n",
    "offs_output = Dense(512, name=\"out_offset\", activation='softmax')(merged)\n",
    "\n",
    "model = keras.Model(\n",
    "    inputs=[file_input, offs_input],\n",
    "    outputs=[file_output, offs_output],\n",
    ")\n",
    "\n",
    "model.compile(loss='mse', optimizer='adam')"
   ]
  },
  {
   "cell_type": "code",
   "execution_count": 15,
   "id": "positive-lease",
   "metadata": {},
   "outputs": [
    {
     "name": "stdout",
     "output_type": "stream",
     "text": [
      "Requirement already satisfied: tensorflow in /home/brt/.asdf/installs/python/miniconda3-latest/lib/python3.8/site-packages (2.4.1)\n",
      "Requirement already satisfied: google-pasta~=0.2 in /home/brt/.asdf/installs/python/miniconda3-latest/lib/python3.8/site-packages (from tensorflow) (0.2.0)\n",
      "Requirement already satisfied: astunparse~=1.6.3 in /home/brt/.asdf/installs/python/miniconda3-latest/lib/python3.8/site-packages (from tensorflow) (1.6.3)\n",
      "Requirement already satisfied: keras-preprocessing~=1.1.2 in /home/brt/.asdf/installs/python/miniconda3-latest/lib/python3.8/site-packages (from tensorflow) (1.1.2)\n",
      "Requirement already satisfied: absl-py~=0.10 in /home/brt/.asdf/installs/python/miniconda3-latest/lib/python3.8/site-packages (from tensorflow) (0.12.0)\n",
      "Requirement already satisfied: h5py~=2.10.0 in /home/brt/.asdf/installs/python/miniconda3-latest/lib/python3.8/site-packages (from tensorflow) (2.10.0)\n",
      "Requirement already satisfied: numpy~=1.19.2 in /home/brt/.asdf/installs/python/miniconda3-latest/lib/python3.8/site-packages (from tensorflow) (1.19.5)\n",
      "Requirement already satisfied: protobuf>=3.9.2 in /home/brt/.asdf/installs/python/miniconda3-latest/lib/python3.8/site-packages (from tensorflow) (3.15.6)\n",
      "Requirement already satisfied: flatbuffers~=1.12.0 in /home/brt/.asdf/installs/python/miniconda3-latest/lib/python3.8/site-packages (from tensorflow) (1.12)\n",
      "Requirement already satisfied: termcolor~=1.1.0 in /home/brt/.asdf/installs/python/miniconda3-latest/lib/python3.8/site-packages (from tensorflow) (1.1.0)\n",
      "Requirement already satisfied: typing-extensions~=3.7.4 in /home/brt/.asdf/installs/python/miniconda3-latest/lib/python3.8/site-packages (from tensorflow) (3.7.4.3)\n",
      "Requirement already satisfied: wheel~=0.35 in /home/brt/.asdf/installs/python/miniconda3-latest/lib/python3.8/site-packages (from tensorflow) (0.35.1)\n",
      "Requirement already satisfied: six~=1.15.0 in /home/brt/.asdf/installs/python/miniconda3-latest/lib/python3.8/site-packages (from tensorflow) (1.15.0)\n",
      "Requirement already satisfied: wrapt~=1.12.1 in /home/brt/.asdf/installs/python/miniconda3-latest/lib/python3.8/site-packages (from tensorflow) (1.12.1)\n",
      "Requirement already satisfied: tensorboard~=2.4 in /home/brt/.asdf/installs/python/miniconda3-latest/lib/python3.8/site-packages (from tensorflow) (2.4.1)\n",
      "Requirement already satisfied: opt-einsum~=3.3.0 in /home/brt/.asdf/installs/python/miniconda3-latest/lib/python3.8/site-packages (from tensorflow) (3.3.0)\n",
      "Requirement already satisfied: gast==0.3.3 in /home/brt/.asdf/installs/python/miniconda3-latest/lib/python3.8/site-packages (from tensorflow) (0.3.3)\n",
      "Requirement already satisfied: tensorflow-estimator<2.5.0,>=2.4.0 in /home/brt/.asdf/installs/python/miniconda3-latest/lib/python3.8/site-packages (from tensorflow) (2.4.0)\n",
      "Requirement already satisfied: grpcio~=1.32.0 in /home/brt/.asdf/installs/python/miniconda3-latest/lib/python3.8/site-packages (from tensorflow) (1.32.0)\n",
      "Requirement already satisfied: google-auth<2,>=1.6.3 in /home/brt/.asdf/installs/python/miniconda3-latest/lib/python3.8/site-packages (from tensorboard~=2.4->tensorflow) (1.28.0)\n",
      "Requirement already satisfied: tensorboard-plugin-wit>=1.6.0 in /home/brt/.asdf/installs/python/miniconda3-latest/lib/python3.8/site-packages (from tensorboard~=2.4->tensorflow) (1.8.0)\n",
      "Requirement already satisfied: markdown>=2.6.8 in /home/brt/.asdf/installs/python/miniconda3-latest/lib/python3.8/site-packages (from tensorboard~=2.4->tensorflow) (3.3.4)\n",
      "Requirement already satisfied: requests<3,>=2.21.0 in /home/brt/.asdf/installs/python/miniconda3-latest/lib/python3.8/site-packages (from tensorboard~=2.4->tensorflow) (2.24.0)\n",
      "Requirement already satisfied: werkzeug>=0.11.15 in /home/brt/.asdf/installs/python/miniconda3-latest/lib/python3.8/site-packages (from tensorboard~=2.4->tensorflow) (1.0.1)\n",
      "Requirement already satisfied: setuptools>=41.0.0 in /home/brt/.asdf/installs/python/miniconda3-latest/lib/python3.8/site-packages (from tensorboard~=2.4->tensorflow) (54.1.1)\n",
      "Requirement already satisfied: google-auth-oauthlib<0.5,>=0.4.1 in /home/brt/.asdf/installs/python/miniconda3-latest/lib/python3.8/site-packages (from tensorboard~=2.4->tensorflow) (0.4.3)\n",
      "Requirement already satisfied: rsa<5,>=3.1.4 in /home/brt/.asdf/installs/python/miniconda3-latest/lib/python3.8/site-packages (from google-auth<2,>=1.6.3->tensorboard~=2.4->tensorflow) (4.7.2)\n",
      "Requirement already satisfied: cachetools<5.0,>=2.0.0 in /home/brt/.asdf/installs/python/miniconda3-latest/lib/python3.8/site-packages (from google-auth<2,>=1.6.3->tensorboard~=2.4->tensorflow) (4.2.1)\n",
      "Requirement already satisfied: pyasn1-modules>=0.2.1 in /home/brt/.asdf/installs/python/miniconda3-latest/lib/python3.8/site-packages (from google-auth<2,>=1.6.3->tensorboard~=2.4->tensorflow) (0.2.8)\n",
      "Requirement already satisfied: requests-oauthlib>=0.7.0 in /home/brt/.asdf/installs/python/miniconda3-latest/lib/python3.8/site-packages (from google-auth-oauthlib<0.5,>=0.4.1->tensorboard~=2.4->tensorflow) (1.3.0)\n",
      "Requirement already satisfied: pyasn1<0.5.0,>=0.4.6 in /home/brt/.asdf/installs/python/miniconda3-latest/lib/python3.8/site-packages (from pyasn1-modules>=0.2.1->google-auth<2,>=1.6.3->tensorboard~=2.4->tensorflow) (0.4.8)\n",
      "Requirement already satisfied: certifi>=2017.4.17 in /home/brt/.asdf/installs/python/miniconda3-latest/lib/python3.8/site-packages (from requests<3,>=2.21.0->tensorboard~=2.4->tensorflow) (2020.12.5)\n",
      "Requirement already satisfied: idna<3,>=2.5 in /home/brt/.asdf/installs/python/miniconda3-latest/lib/python3.8/site-packages (from requests<3,>=2.21.0->tensorboard~=2.4->tensorflow) (2.10)\n",
      "Requirement already satisfied: urllib3!=1.25.0,!=1.25.1,<1.26,>=1.21.1 in /home/brt/.asdf/installs/python/miniconda3-latest/lib/python3.8/site-packages (from requests<3,>=2.21.0->tensorboard~=2.4->tensorflow) (1.25.11)\n",
      "Requirement already satisfied: chardet<4,>=3.0.2 in /home/brt/.asdf/installs/python/miniconda3-latest/lib/python3.8/site-packages (from requests<3,>=2.21.0->tensorboard~=2.4->tensorflow) (3.0.4)\n",
      "Requirement already satisfied: oauthlib>=3.0.0 in /home/brt/.asdf/installs/python/miniconda3-latest/lib/python3.8/site-packages (from requests-oauthlib>=0.7.0->google-auth-oauthlib<0.5,>=0.4.1->tensorboard~=2.4->tensorflow) (3.1.0)\n"
     ]
    }
   ],
   "source": []
  },
  {
   "cell_type": "code",
   "execution_count": 14,
   "id": "guilty-partnership",
   "metadata": {
    "tags": []
   },
   "outputs": [
    {
     "name": "stdout",
     "output_type": "stream",
     "text": [
      "Epoch 1/24\n",
      "1350/1350 [==============================] - 16s 10ms/step - loss: 17303.4039 - out_file_loss: 815.4356 - out_offset_loss: 16487.9678 - val_loss: 17351.0059 - val_out_file_loss: 817.9888 - val_out_offset_loss: 16533.0078\n",
      "Epoch 2/24\n",
      "1350/1350 [==============================] - 14s 11ms/step - loss: 16783.5424 - out_file_loss: 812.6039 - out_offset_loss: 15970.9334 - val_loss: 17351.0059 - val_out_file_loss: 817.9888 - val_out_offset_loss: 16533.0078\n",
      "Epoch 3/24\n",
      "1350/1350 [==============================] - 23s 17ms/step - loss: 17564.1784 - out_file_loss: 809.8095 - out_offset_loss: 16754.3730 - val_loss: 17351.0059 - val_out_file_loss: 817.9888 - val_out_offset_loss: 16533.0078\n",
      "Epoch 4/24\n",
      "1350/1350 [==============================] - 20s 15ms/step - loss: 17153.0480 - out_file_loss: 815.4318 - out_offset_loss: 16337.6180 - val_loss: 17351.0059 - val_out_file_loss: 817.9888 - val_out_offset_loss: 16533.0078\n",
      "Epoch 5/24\n",
      "1350/1350 [==============================] - 22s 17ms/step - loss: 17052.9004 - out_file_loss: 815.0283 - out_offset_loss: 16237.8795 - val_loss: 17351.0059 - val_out_file_loss: 817.9888 - val_out_offset_loss: 16533.0078\n",
      "Epoch 6/24\n",
      "1350/1350 [==============================] - 23s 17ms/step - loss: 17171.5971 - out_file_loss: 816.4189 - out_offset_loss: 16355.1788 - val_loss: 17351.0059 - val_out_file_loss: 817.9888 - val_out_offset_loss: 16533.0078\n",
      "Epoch 7/24\n",
      "1350/1350 [==============================] - 13s 10ms/step - loss: 17064.0770 - out_file_loss: 811.4271 - out_offset_loss: 16252.6540 - val_loss: 17351.0059 - val_out_file_loss: 817.9888 - val_out_offset_loss: 16533.0078\n",
      "Epoch 8/24\n",
      "1350/1350 [==============================] - 20s 15ms/step - loss: 17159.9291 - out_file_loss: 815.1902 - out_offset_loss: 16344.7446 - val_loss: 17351.0059 - val_out_file_loss: 817.9888 - val_out_offset_loss: 16533.0078\n",
      "Epoch 9/24\n",
      "1350/1350 [==============================] - 22s 16ms/step - loss: 17267.3112 - out_file_loss: 813.1029 - out_offset_loss: 16454.2024 - val_loss: 17351.0059 - val_out_file_loss: 817.9888 - val_out_offset_loss: 16533.0078\n",
      "Epoch 10/24\n",
      "1350/1350 [==============================] - 16s 12ms/step - loss: 16804.5918 - out_file_loss: 814.2958 - out_offset_loss: 15990.2914 - val_loss: 17351.0059 - val_out_file_loss: 817.9888 - val_out_offset_loss: 16533.0078\n",
      "Epoch 11/24\n",
      "1350/1350 [==============================] - 16s 12ms/step - loss: 17190.4216 - out_file_loss: 810.3313 - out_offset_loss: 16380.0890 - val_loss: 17351.0059 - val_out_file_loss: 817.9888 - val_out_offset_loss: 16533.0078\n",
      "Epoch 12/24\n",
      "1350/1350 [==============================] - 14s 10ms/step - loss: 17018.3822 - out_file_loss: 812.5191 - out_offset_loss: 16205.8790 - val_loss: 17351.0059 - val_out_file_loss: 817.9888 - val_out_offset_loss: 16533.0078\n",
      "Epoch 13/24\n",
      "1350/1350 [==============================] - 22s 16ms/step - loss: 16943.8240 - out_file_loss: 814.7469 - out_offset_loss: 16129.0745 - val_loss: 17351.0059 - val_out_file_loss: 817.9888 - val_out_offset_loss: 16533.0078\n",
      "Epoch 14/24\n",
      "1350/1350 [==============================] - 18s 13ms/step - loss: 17397.5548 - out_file_loss: 816.7479 - out_offset_loss: 16580.8077 - val_loss: 17351.0059 - val_out_file_loss: 817.9888 - val_out_offset_loss: 16533.0078\n",
      "Epoch 15/24\n",
      "1350/1350 [==============================] - 16s 12ms/step - loss: 16762.7164 - out_file_loss: 813.4459 - out_offset_loss: 15949.2593 - val_loss: 17351.0059 - val_out_file_loss: 817.9888 - val_out_offset_loss: 16533.0078\n",
      "Epoch 16/24\n",
      "1350/1350 [==============================] - 13s 10ms/step - loss: 17239.4106 - out_file_loss: 816.7345 - out_offset_loss: 16422.6711 - val_loss: 17351.0059 - val_out_file_loss: 817.9888 - val_out_offset_loss: 16533.0078\n",
      "Epoch 17/24\n",
      "1350/1350 [==============================] - 12s 9ms/step - loss: 17248.5399 - out_file_loss: 812.5396 - out_offset_loss: 16435.9951 - val_loss: 17351.0059 - val_out_file_loss: 817.9888 - val_out_offset_loss: 16533.0078\n",
      "Epoch 18/24\n",
      "1350/1350 [==============================] - 12s 9ms/step - loss: 16590.4089 - out_file_loss: 814.9868 - out_offset_loss: 15775.4310 - val_loss: 17351.0059 - val_out_file_loss: 817.9888 - val_out_offset_loss: 16533.0078\n",
      "Epoch 19/24\n",
      "1350/1350 [==============================] - 11s 8ms/step - loss: 17064.3999 - out_file_loss: 816.3257 - out_offset_loss: 16248.0724 - val_loss: 17351.0059 - val_out_file_loss: 817.9888 - val_out_offset_loss: 16533.0078\n",
      "Epoch 20/24\n",
      "1350/1350 [==============================] - 12s 9ms/step - loss: 16854.7920 - out_file_loss: 814.7216 - out_offset_loss: 16040.0676 - val_loss: 17351.0059 - val_out_file_loss: 817.9888 - val_out_offset_loss: 16533.0078\n",
      "Epoch 21/24\n",
      "1350/1350 [==============================] - 16s 12ms/step - loss: 16637.9000 - out_file_loss: 816.0265 - out_offset_loss: 15821.8701 - val_loss: 17351.0059 - val_out_file_loss: 817.9888 - val_out_offset_loss: 16533.0078\n",
      "Epoch 22/24\n",
      "1350/1350 [==============================] - 19s 14ms/step - loss: 17518.5638 - out_file_loss: 811.7093 - out_offset_loss: 16706.8603 - val_loss: 17351.0059 - val_out_file_loss: 817.9888 - val_out_offset_loss: 16533.0078\n",
      "Epoch 23/24\n",
      "1350/1350 [==============================] - 18s 13ms/step - loss: 17030.4343 - out_file_loss: 814.0220 - out_offset_loss: 16216.4225 - val_loss: 17351.0059 - val_out_file_loss: 817.9888 - val_out_offset_loss: 16533.0078\n",
      "Epoch 24/24\n",
      "1350/1350 [==============================] - 21s 16ms/step - loss: 17518.0803 - out_file_loss: 815.8438 - out_offset_loss: 16702.2331 - val_loss: 17351.0059 - val_out_file_loss: 817.9888 - val_out_offset_loss: 16533.0078\n"
     ]
    }
   ],
   "source": [
    "history = model.fit(\n",
    "    {\"file\": x_f, \"offset\": x_o},\n",
    "    {\"out_file\": y_f, \"out_offset\": y_o},\n",
    "    epochs=24,\n",
    "    batch_size=64,\n",
    "    validation_split=0.1,\n",
    "    verbose=1,\n",
    ")"
   ]
  },
  {
   "cell_type": "code",
   "execution_count": 569,
   "id": "latest-comedy",
   "metadata": {},
   "outputs": [
    {
     "data": {
      "text/plain": [
       "(32,)"
      ]
     },
     "execution_count": 569,
     "metadata": {},
     "output_type": "execute_result"
    }
   ],
   "source": [
    "x_f[0,:].shape"
   ]
  },
  {
   "cell_type": "code",
   "execution_count": 570,
   "id": "official-ridge",
   "metadata": {},
   "outputs": [],
   "source": [
    "f, o = model.predict({\"file\": x_f[0:, :], \"offset\": x_o[0:, :]})\n"
   ]
  },
  {
   "cell_type": "code",
   "execution_count": 571,
   "id": "small-excess",
   "metadata": {},
   "outputs": [
    {
     "data": {
      "text/plain": [
       "0.1498035130912362"
      ]
     },
     "execution_count": 571,
     "metadata": {},
     "output_type": "execute_result"
    }
   ],
   "source": [
    "sum(np.around(o[:, -1]) == y_o) / y_o.size"
   ]
  },
  {
   "cell_type": "code",
   "execution_count": 572,
   "id": "organized-spending",
   "metadata": {},
   "outputs": [
    {
     "data": {
      "text/plain": [
       "0.9703612518346669"
      ]
     },
     "execution_count": 572,
     "metadata": {},
     "output_type": "execute_result"
    }
   ],
   "source": [
    "sum(np.around(f[:, -1]) == y_f) / y_f.size"
   ]
  }
 ],
 "metadata": {
  "kernelspec": {
   "display_name": "Python 3",
   "language": "python",
   "name": "python3"
  },
  "language_info": {
   "codemirror_mode": {
    "name": "ipython",
    "version": 3
   },
   "file_extension": ".py",
   "mimetype": "text/x-python",
   "name": "python",
   "nbconvert_exporter": "python",
   "pygments_lexer": "ipython3",
   "version": "3.8.5"
  }
 },
 "nbformat": 4,
 "nbformat_minor": 5
}
